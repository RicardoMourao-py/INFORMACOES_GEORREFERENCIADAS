{
  "nbformat": 4,
  "nbformat_minor": 0,
  "metadata": {
    "colab": {
      "provenance": [],
      "authorship_tag": "ABX9TyOp/I7SQA8OTkEPV7l6ILA6",
      "include_colab_link": true
    },
    "kernelspec": {
      "name": "python3",
      "display_name": "Python 3"
    },
    "language_info": {
      "name": "python"
    }
  },
  "cells": [
    {
      "cell_type": "markdown",
      "metadata": {
        "id": "view-in-github",
        "colab_type": "text"
      },
      "source": [
        "<a href=\"https://colab.research.google.com/github/RicardoMourao-py/INFORMACOES_GEORREFERENCIADAS/blob/main/projeto_infogeo.ipynb\" target=\"_parent\"><img src=\"https://colab.research.google.com/assets/colab-badge.svg\" alt=\"Open In Colab\"/></a>"
      ]
    },
    {
      "cell_type": "markdown",
      "source": [
        "## Instalando bibliotecas"
      ],
      "metadata": {
        "id": "xPebYjj6YxB1"
      }
    },
    {
      "cell_type": "code",
      "execution_count": 1,
      "metadata": {
        "colab": {
          "base_uri": "https://localhost:8080/"
        },
        "id": "rXK_iP4ZYsEC",
        "outputId": "20b75840-964f-4150-ef50-e1e94dbc2d94"
      },
      "outputs": [
        {
          "output_type": "stream",
          "name": "stdout",
          "text": [
            "\u001b[2K   \u001b[90m━━━━━━━━━━━━━━━━━━━━━━━━━━━━━━━━━━━━━━━━\u001b[0m \u001b[32m59.2/59.2 kB\u001b[0m \u001b[31m1.4 MB/s\u001b[0m eta \u001b[36m0:00:00\u001b[0m\n",
            "\u001b[2K   \u001b[90m━━━━━━━━━━━━━━━━━━━━━━━━━━━━━━━━━━━━━━━━\u001b[0m \u001b[32m2.8/2.8 MB\u001b[0m \u001b[31m28.5 MB/s\u001b[0m eta \u001b[36m0:00:00\u001b[0m\n",
            "\u001b[2K     \u001b[90m━━━━━━━━━━━━━━━━━━━━━━━━━━━━━━━━━━━━━━━━\u001b[0m \u001b[32m56.6/56.6 kB\u001b[0m \u001b[31m1.2 MB/s\u001b[0m eta \u001b[36m0:00:00\u001b[0m\n",
            "\u001b[2K   \u001b[90m━━━━━━━━━━━━━━━━━━━━━━━━━━━━━━━━━━━━━━━━\u001b[0m \u001b[32m17.3/17.3 MB\u001b[0m \u001b[31m62.3 MB/s\u001b[0m eta \u001b[36m0:00:00\u001b[0m\n",
            "\u001b[?25h"
          ]
        }
      ],
      "source": [
        "!pip install geopandas --quiet\n",
        "!pip install geopy --quiet\n",
        "!pip install pointpats==2.3.0 --quiet\n",
        "!pip install fiona --quiet\n",
        "!pip install seaborn --quiet"
      ]
    },
    {
      "cell_type": "markdown",
      "source": [
        "## Importando Bibliotecas"
      ],
      "metadata": {
        "id": "AiwnkQymZCJt"
      }
    },
    {
      "cell_type": "code",
      "source": [
        "import geopandas as gpd\n",
        "import fiona as f\n",
        "from pointpats import PointPattern\n",
        "import matplotlib.pyplot as plt\n",
        "import os\n",
        "import numpy as np\n",
        "from pointpats.centrography import mean_center, weighted_mean_center, std_distance, ellipse\n",
        "from matplotlib.patches import Ellipse\n",
        "from pointpats import hull\n",
        "import pointpats.quadrat_statistics as qs\n",
        "import seaborn as sns\n",
        "import math\n",
        "from pointpats.distance_statistics import K\n",
        "from pointpats import PoissonPointProcess\n",
        "import itertools\n",
        "from pointpats.distance_statistics import Kenv\n",
        "from google.colab import files"
      ],
      "metadata": {
        "id": "dLxG6bkHY1cQ"
      },
      "execution_count": 2,
      "outputs": []
    },
    {
      "cell_type": "code",
      "source": [
        "equip_esporte_clube = gpd.read_file(\"SIRGAS_GPKG_TEMA_ESPORTE_CLUBE.gpkg\")\n",
        "equip_esporte_clube_comunidade = gpd.read_file(\"SIRGAS_GPKG_TEMA_ESPORTE_CLUBE DA COMUNIDADE.gpkg\")\n",
        "equip_esporte_centro_esportivo = gpd.read_file(\"SIRGAS_GPKG_TEMA_ESPORTE_CENTRO ESPORTIVO.gpkg\")"
      ],
      "metadata": {
        "id": "H5Ih_mNCZHef"
      },
      "execution_count": 24,
      "outputs": []
    },
    {
      "cell_type": "code",
      "source": [
        "equip_esporte_clube_comunidade.head()"
      ],
      "metadata": {
        "colab": {
          "base_uri": "https://localhost:8080/",
          "height": 451
        },
        "id": "1OnsVAnPZmay",
        "outputId": "eb248980-d551-4bf8-a064-b8088613c699"
      },
      "execution_count": 29,
      "outputs": [
        {
          "output_type": "execute_result",
          "data": {
            "text/plain": [
              "                       eq_nome                     eq_bairro   eq_cep  \\\n",
              "0  CDC UNIÃO PARQUE SÃO RAFAEL                    SÃO RAFAEL  8310490   \n",
              "1                CDC LIDERANÇA        JARDIM CIDADE PIRITUBA  2945010   \n",
              "2         CDC CHARLES GOODYEAR                       CATUMBI  3021085   \n",
              "3            CDC JARDIM REGINA           JARDIM SANTA MÔNICA  5171200   \n",
              "4          CDC JARDIM SAO JOSÉ  JARDIM SÃO JOSÉ (ZONA NORTE)  2932110   \n",
              "\n",
              "   eq_cd_tipo  eq_tipo                        eq_enderec           eq_cd_esfe  \\\n",
              "0          11       11  RUA FREI MATEUS DE ASSUNÇÃO, S/N  PÚBLICO - MUNICIPAL   \n",
              "1          11       11           R CORACAO DE BUGRE, 100  PÚBLICO - MUNICIPAL   \n",
              "2          11       11               R DOS PRAZERES, 284  PÚBLICO - MUNICIPAL   \n",
              "3          11       11              RUA PIRAPOZINHO, 117  PÚBLICO - MUNICIPAL   \n",
              "4          11       11         R DOM MANUEL D'ELBOUX, 30  PÚBLICO - MUNICIPAL   \n",
              "\n",
              "             eq_classe   eq_rede eq_cd_tema                      geometry  \n",
              "0  CLUBE DA COMUNIDADE  SEM REDE          5  POINT (349790.13 7386446.49)  \n",
              "1  CLUBE DA COMUNIDADE  SEM REDE          5  POINT (323952.86 7401870.21)  \n",
              "2  CLUBE DA COMUNIDADE  SEM REDE          5  POINT (336870.21 7396342.05)  \n",
              "3  CLUBE DA COMUNIDADE  SEM REDE          5  POINT (321995.58 7402938.72)  \n",
              "4  CLUBE DA COMUNIDADE  SEM REDE          5  POINT (325045.75 7401428.31)  "
            ],
            "text/html": [
              "\n",
              "  <div id=\"df-b857746a-9d76-4d85-8099-57528097131e\" class=\"colab-df-container\">\n",
              "    <div>\n",
              "<style scoped>\n",
              "    .dataframe tbody tr th:only-of-type {\n",
              "        vertical-align: middle;\n",
              "    }\n",
              "\n",
              "    .dataframe tbody tr th {\n",
              "        vertical-align: top;\n",
              "    }\n",
              "\n",
              "    .dataframe thead th {\n",
              "        text-align: right;\n",
              "    }\n",
              "</style>\n",
              "<table border=\"1\" class=\"dataframe\">\n",
              "  <thead>\n",
              "    <tr style=\"text-align: right;\">\n",
              "      <th></th>\n",
              "      <th>eq_nome</th>\n",
              "      <th>eq_bairro</th>\n",
              "      <th>eq_cep</th>\n",
              "      <th>eq_cd_tipo</th>\n",
              "      <th>eq_tipo</th>\n",
              "      <th>eq_enderec</th>\n",
              "      <th>eq_cd_esfe</th>\n",
              "      <th>eq_classe</th>\n",
              "      <th>eq_rede</th>\n",
              "      <th>eq_cd_tema</th>\n",
              "      <th>geometry</th>\n",
              "    </tr>\n",
              "  </thead>\n",
              "  <tbody>\n",
              "    <tr>\n",
              "      <th>0</th>\n",
              "      <td>CDC UNIÃO PARQUE SÃO RAFAEL</td>\n",
              "      <td>SÃO RAFAEL</td>\n",
              "      <td>8310490</td>\n",
              "      <td>11</td>\n",
              "      <td>11</td>\n",
              "      <td>RUA FREI MATEUS DE ASSUNÇÃO, S/N</td>\n",
              "      <td>PÚBLICO - MUNICIPAL</td>\n",
              "      <td>CLUBE DA COMUNIDADE</td>\n",
              "      <td>SEM REDE</td>\n",
              "      <td>5</td>\n",
              "      <td>POINT (349790.13 7386446.49)</td>\n",
              "    </tr>\n",
              "    <tr>\n",
              "      <th>1</th>\n",
              "      <td>CDC LIDERANÇA</td>\n",
              "      <td>JARDIM CIDADE PIRITUBA</td>\n",
              "      <td>2945010</td>\n",
              "      <td>11</td>\n",
              "      <td>11</td>\n",
              "      <td>R CORACAO DE BUGRE, 100</td>\n",
              "      <td>PÚBLICO - MUNICIPAL</td>\n",
              "      <td>CLUBE DA COMUNIDADE</td>\n",
              "      <td>SEM REDE</td>\n",
              "      <td>5</td>\n",
              "      <td>POINT (323952.86 7401870.21)</td>\n",
              "    </tr>\n",
              "    <tr>\n",
              "      <th>2</th>\n",
              "      <td>CDC CHARLES GOODYEAR</td>\n",
              "      <td>CATUMBI</td>\n",
              "      <td>3021085</td>\n",
              "      <td>11</td>\n",
              "      <td>11</td>\n",
              "      <td>R DOS PRAZERES, 284</td>\n",
              "      <td>PÚBLICO - MUNICIPAL</td>\n",
              "      <td>CLUBE DA COMUNIDADE</td>\n",
              "      <td>SEM REDE</td>\n",
              "      <td>5</td>\n",
              "      <td>POINT (336870.21 7396342.05)</td>\n",
              "    </tr>\n",
              "    <tr>\n",
              "      <th>3</th>\n",
              "      <td>CDC JARDIM REGINA</td>\n",
              "      <td>JARDIM SANTA MÔNICA</td>\n",
              "      <td>5171200</td>\n",
              "      <td>11</td>\n",
              "      <td>11</td>\n",
              "      <td>RUA PIRAPOZINHO, 117</td>\n",
              "      <td>PÚBLICO - MUNICIPAL</td>\n",
              "      <td>CLUBE DA COMUNIDADE</td>\n",
              "      <td>SEM REDE</td>\n",
              "      <td>5</td>\n",
              "      <td>POINT (321995.58 7402938.72)</td>\n",
              "    </tr>\n",
              "    <tr>\n",
              "      <th>4</th>\n",
              "      <td>CDC JARDIM SAO JOSÉ</td>\n",
              "      <td>JARDIM SÃO JOSÉ (ZONA NORTE)</td>\n",
              "      <td>2932110</td>\n",
              "      <td>11</td>\n",
              "      <td>11</td>\n",
              "      <td>R DOM MANUEL D'ELBOUX, 30</td>\n",
              "      <td>PÚBLICO - MUNICIPAL</td>\n",
              "      <td>CLUBE DA COMUNIDADE</td>\n",
              "      <td>SEM REDE</td>\n",
              "      <td>5</td>\n",
              "      <td>POINT (325045.75 7401428.31)</td>\n",
              "    </tr>\n",
              "  </tbody>\n",
              "</table>\n",
              "</div>\n",
              "    <div class=\"colab-df-buttons\">\n",
              "\n",
              "  <div class=\"colab-df-container\">\n",
              "    <button class=\"colab-df-convert\" onclick=\"convertToInteractive('df-b857746a-9d76-4d85-8099-57528097131e')\"\n",
              "            title=\"Convert this dataframe to an interactive table.\"\n",
              "            style=\"display:none;\">\n",
              "\n",
              "  <svg xmlns=\"http://www.w3.org/2000/svg\" height=\"24px\" viewBox=\"0 -960 960 960\">\n",
              "    <path d=\"M120-120v-720h720v720H120Zm60-500h600v-160H180v160Zm220 220h160v-160H400v160Zm0 220h160v-160H400v160ZM180-400h160v-160H180v160Zm440 0h160v-160H620v160ZM180-180h160v-160H180v160Zm440 0h160v-160H620v160Z\"/>\n",
              "  </svg>\n",
              "    </button>\n",
              "\n",
              "  <style>\n",
              "    .colab-df-container {\n",
              "      display:flex;\n",
              "      gap: 12px;\n",
              "    }\n",
              "\n",
              "    .colab-df-convert {\n",
              "      background-color: #E8F0FE;\n",
              "      border: none;\n",
              "      border-radius: 50%;\n",
              "      cursor: pointer;\n",
              "      display: none;\n",
              "      fill: #1967D2;\n",
              "      height: 32px;\n",
              "      padding: 0 0 0 0;\n",
              "      width: 32px;\n",
              "    }\n",
              "\n",
              "    .colab-df-convert:hover {\n",
              "      background-color: #E2EBFA;\n",
              "      box-shadow: 0px 1px 2px rgba(60, 64, 67, 0.3), 0px 1px 3px 1px rgba(60, 64, 67, 0.15);\n",
              "      fill: #174EA6;\n",
              "    }\n",
              "\n",
              "    .colab-df-buttons div {\n",
              "      margin-bottom: 4px;\n",
              "    }\n",
              "\n",
              "    [theme=dark] .colab-df-convert {\n",
              "      background-color: #3B4455;\n",
              "      fill: #D2E3FC;\n",
              "    }\n",
              "\n",
              "    [theme=dark] .colab-df-convert:hover {\n",
              "      background-color: #434B5C;\n",
              "      box-shadow: 0px 1px 3px 1px rgba(0, 0, 0, 0.15);\n",
              "      filter: drop-shadow(0px 1px 2px rgba(0, 0, 0, 0.3));\n",
              "      fill: #FFFFFF;\n",
              "    }\n",
              "  </style>\n",
              "\n",
              "    <script>\n",
              "      const buttonEl =\n",
              "        document.querySelector('#df-b857746a-9d76-4d85-8099-57528097131e button.colab-df-convert');\n",
              "      buttonEl.style.display =\n",
              "        google.colab.kernel.accessAllowed ? 'block' : 'none';\n",
              "\n",
              "      async function convertToInteractive(key) {\n",
              "        const element = document.querySelector('#df-b857746a-9d76-4d85-8099-57528097131e');\n",
              "        const dataTable =\n",
              "          await google.colab.kernel.invokeFunction('convertToInteractive',\n",
              "                                                    [key], {});\n",
              "        if (!dataTable) return;\n",
              "\n",
              "        const docLinkHtml = 'Like what you see? Visit the ' +\n",
              "          '<a target=\"_blank\" href=https://colab.research.google.com/notebooks/data_table.ipynb>data table notebook</a>'\n",
              "          + ' to learn more about interactive tables.';\n",
              "        element.innerHTML = '';\n",
              "        dataTable['output_type'] = 'display_data';\n",
              "        await google.colab.output.renderOutput(dataTable, element);\n",
              "        const docLink = document.createElement('div');\n",
              "        docLink.innerHTML = docLinkHtml;\n",
              "        element.appendChild(docLink);\n",
              "      }\n",
              "    </script>\n",
              "  </div>\n",
              "\n",
              "\n",
              "<div id=\"df-3e15ef2c-bcc2-4db9-9106-cc104b447e59\">\n",
              "  <button class=\"colab-df-quickchart\" onclick=\"quickchart('df-3e15ef2c-bcc2-4db9-9106-cc104b447e59')\"\n",
              "            title=\"Suggest charts\"\n",
              "            style=\"display:none;\">\n",
              "\n",
              "<svg xmlns=\"http://www.w3.org/2000/svg\" height=\"24px\"viewBox=\"0 0 24 24\"\n",
              "     width=\"24px\">\n",
              "    <g>\n",
              "        <path d=\"M19 3H5c-1.1 0-2 .9-2 2v14c0 1.1.9 2 2 2h14c1.1 0 2-.9 2-2V5c0-1.1-.9-2-2-2zM9 17H7v-7h2v7zm4 0h-2V7h2v10zm4 0h-2v-4h2v4z\"/>\n",
              "    </g>\n",
              "</svg>\n",
              "  </button>\n",
              "\n",
              "<style>\n",
              "  .colab-df-quickchart {\n",
              "      --bg-color: #E8F0FE;\n",
              "      --fill-color: #1967D2;\n",
              "      --hover-bg-color: #E2EBFA;\n",
              "      --hover-fill-color: #174EA6;\n",
              "      --disabled-fill-color: #AAA;\n",
              "      --disabled-bg-color: #DDD;\n",
              "  }\n",
              "\n",
              "  [theme=dark] .colab-df-quickchart {\n",
              "      --bg-color: #3B4455;\n",
              "      --fill-color: #D2E3FC;\n",
              "      --hover-bg-color: #434B5C;\n",
              "      --hover-fill-color: #FFFFFF;\n",
              "      --disabled-bg-color: #3B4455;\n",
              "      --disabled-fill-color: #666;\n",
              "  }\n",
              "\n",
              "  .colab-df-quickchart {\n",
              "    background-color: var(--bg-color);\n",
              "    border: none;\n",
              "    border-radius: 50%;\n",
              "    cursor: pointer;\n",
              "    display: none;\n",
              "    fill: var(--fill-color);\n",
              "    height: 32px;\n",
              "    padding: 0;\n",
              "    width: 32px;\n",
              "  }\n",
              "\n",
              "  .colab-df-quickchart:hover {\n",
              "    background-color: var(--hover-bg-color);\n",
              "    box-shadow: 0 1px 2px rgba(60, 64, 67, 0.3), 0 1px 3px 1px rgba(60, 64, 67, 0.15);\n",
              "    fill: var(--button-hover-fill-color);\n",
              "  }\n",
              "\n",
              "  .colab-df-quickchart-complete:disabled,\n",
              "  .colab-df-quickchart-complete:disabled:hover {\n",
              "    background-color: var(--disabled-bg-color);\n",
              "    fill: var(--disabled-fill-color);\n",
              "    box-shadow: none;\n",
              "  }\n",
              "\n",
              "  .colab-df-spinner {\n",
              "    border: 2px solid var(--fill-color);\n",
              "    border-color: transparent;\n",
              "    border-bottom-color: var(--fill-color);\n",
              "    animation:\n",
              "      spin 1s steps(1) infinite;\n",
              "  }\n",
              "\n",
              "  @keyframes spin {\n",
              "    0% {\n",
              "      border-color: transparent;\n",
              "      border-bottom-color: var(--fill-color);\n",
              "      border-left-color: var(--fill-color);\n",
              "    }\n",
              "    20% {\n",
              "      border-color: transparent;\n",
              "      border-left-color: var(--fill-color);\n",
              "      border-top-color: var(--fill-color);\n",
              "    }\n",
              "    30% {\n",
              "      border-color: transparent;\n",
              "      border-left-color: var(--fill-color);\n",
              "      border-top-color: var(--fill-color);\n",
              "      border-right-color: var(--fill-color);\n",
              "    }\n",
              "    40% {\n",
              "      border-color: transparent;\n",
              "      border-right-color: var(--fill-color);\n",
              "      border-top-color: var(--fill-color);\n",
              "    }\n",
              "    60% {\n",
              "      border-color: transparent;\n",
              "      border-right-color: var(--fill-color);\n",
              "    }\n",
              "    80% {\n",
              "      border-color: transparent;\n",
              "      border-right-color: var(--fill-color);\n",
              "      border-bottom-color: var(--fill-color);\n",
              "    }\n",
              "    90% {\n",
              "      border-color: transparent;\n",
              "      border-bottom-color: var(--fill-color);\n",
              "    }\n",
              "  }\n",
              "</style>\n",
              "\n",
              "  <script>\n",
              "    async function quickchart(key) {\n",
              "      const quickchartButtonEl =\n",
              "        document.querySelector('#' + key + ' button');\n",
              "      quickchartButtonEl.disabled = true;  // To prevent multiple clicks.\n",
              "      quickchartButtonEl.classList.add('colab-df-spinner');\n",
              "      try {\n",
              "        const charts = await google.colab.kernel.invokeFunction(\n",
              "            'suggestCharts', [key], {});\n",
              "      } catch (error) {\n",
              "        console.error('Error during call to suggestCharts:', error);\n",
              "      }\n",
              "      quickchartButtonEl.classList.remove('colab-df-spinner');\n",
              "      quickchartButtonEl.classList.add('colab-df-quickchart-complete');\n",
              "    }\n",
              "    (() => {\n",
              "      let quickchartButtonEl =\n",
              "        document.querySelector('#df-3e15ef2c-bcc2-4db9-9106-cc104b447e59 button');\n",
              "      quickchartButtonEl.style.display =\n",
              "        google.colab.kernel.accessAllowed ? 'block' : 'none';\n",
              "    })();\n",
              "  </script>\n",
              "</div>\n",
              "\n",
              "    </div>\n",
              "  </div>\n"
            ],
            "application/vnd.google.colaboratory.intrinsic+json": {
              "type": "dataframe",
              "variable_name": "equip_esporte_clube_comunidade",
              "summary": "{\n  \"name\": \"equip_esporte_clube_comunidade\",\n  \"rows\": 293,\n  \"fields\": [\n    {\n      \"column\": \"eq_nome\",\n      \"properties\": {\n        \"dtype\": \"string\",\n        \"num_unique_values\": 293,\n        \"samples\": [\n          \"CDC ISIDORO MATEUS\",\n          \"CDC VILA DARLY E JARDIM TEREZA\",\n          \"CDC S\\u00c9RGIO SOUZA LOPES\"\n        ],\n        \"semantic_type\": \"\",\n        \"description\": \"\"\n      }\n    },\n    {\n      \"column\": \"eq_bairro\",\n      \"properties\": {\n        \"dtype\": \"string\",\n        \"num_unique_values\": 191,\n        \"samples\": [\n          \"JARDIM SANTA TEREZINHA (ZONA LESTE)\",\n          \"VILA OL\\u00cdMPIA\",\n          \"VILA NOVA CACHOEIRINHA\"\n        ],\n        \"semantic_type\": \"\",\n        \"description\": \"\"\n      }\n    },\n    {\n      \"column\": \"eq_cep\",\n      \"properties\": {\n        \"dtype\": \"string\",\n        \"num_unique_values\": 232,\n        \"samples\": [\n          \"08191 330\",\n          \"4806000\",\n          \"8180270\"\n        ],\n        \"semantic_type\": \"\",\n        \"description\": \"\"\n      }\n    },\n    {\n      \"column\": \"eq_cd_tipo\",\n      \"properties\": {\n        \"dtype\": \"number\",\n        \"std\": 2,\n        \"min\": 11,\n        \"max\": 19,\n        \"num_unique_values\": 5,\n        \"samples\": [\n          12,\n          19,\n          14\n        ],\n        \"semantic_type\": \"\",\n        \"description\": \"\"\n      }\n    },\n    {\n      \"column\": \"eq_tipo\",\n      \"properties\": {\n        \"dtype\": \"number\",\n        \"std\": 2,\n        \"min\": 11,\n        \"max\": 19,\n        \"num_unique_values\": 5,\n        \"samples\": [\n          12,\n          19,\n          14\n        ],\n        \"semantic_type\": \"\",\n        \"description\": \"\"\n      }\n    },\n    {\n      \"column\": \"eq_enderec\",\n      \"properties\": {\n        \"dtype\": \"string\",\n        \"num_unique_values\": 273,\n        \"samples\": [\n          \"ESTRADA DE TAIPAS X H\\u00c9LIO DE ALMEIDA SANTOS, S/N\",\n          \"R ADELINO DA FONTOURA, 404\",\n          \"R HELION POVOA, 126\"\n        ],\n        \"semantic_type\": \"\",\n        \"description\": \"\"\n      }\n    },\n    {\n      \"column\": \"eq_cd_esfe\",\n      \"properties\": {\n        \"dtype\": \"category\",\n        \"num_unique_values\": 1,\n        \"samples\": [\n          \"P\\u00daBLICO - MUNICIPAL\"\n        ],\n        \"semantic_type\": \"\",\n        \"description\": \"\"\n      }\n    },\n    {\n      \"column\": \"eq_classe\",\n      \"properties\": {\n        \"dtype\": \"category\",\n        \"num_unique_values\": 1,\n        \"samples\": [\n          \"CLUBE DA COMUNIDADE\"\n        ],\n        \"semantic_type\": \"\",\n        \"description\": \"\"\n      }\n    },\n    {\n      \"column\": \"eq_rede\",\n      \"properties\": {\n        \"dtype\": \"category\",\n        \"num_unique_values\": 1,\n        \"samples\": [\n          \"SEM REDE\"\n        ],\n        \"semantic_type\": \"\",\n        \"description\": \"\"\n      }\n    },\n    {\n      \"column\": \"eq_cd_tema\",\n      \"properties\": {\n        \"dtype\": \"category\",\n        \"num_unique_values\": 1,\n        \"samples\": [\n          \"5\"\n        ],\n        \"semantic_type\": \"\",\n        \"description\": \"\"\n      }\n    },\n    {\n      \"column\": \"geometry\",\n      \"properties\": {\n        \"dtype\": \"geometry\",\n        \"num_unique_values\": 293,\n        \"samples\": [\n          \"POINT (355687.24999997625 7393876.599999699)\"\n        ],\n        \"semantic_type\": \"\",\n        \"description\": \"\"\n      }\n    }\n  ]\n}"
            }
          },
          "metadata": {},
          "execution_count": 29
        }
      ]
    },
    {
      "cell_type": "code",
      "source": [
        "equip_esporte_clube.crs"
      ],
      "metadata": {
        "colab": {
          "base_uri": "https://localhost:8080/"
        },
        "id": "kq6en6J3Zub_",
        "outputId": "7d12074a-b6d0-46ee-afa2-ed0cd296f71a"
      },
      "execution_count": 21,
      "outputs": [
        {
          "output_type": "execute_result",
          "data": {
            "text/plain": [
              "<Projected CRS: EPSG:31983>\n",
              "Name: SIRGAS 2000 / UTM zone 23S\n",
              "Axis Info [cartesian]:\n",
              "- E[east]: Easting (metre)\n",
              "- N[north]: Northing (metre)\n",
              "Area of Use:\n",
              "- name: Brazil - between 48°W and 42°W, northern and southern hemispheres, onshore and offshore.\n",
              "- bounds: (-48.0, -33.5, -42.0, 5.13)\n",
              "Coordinate Operation:\n",
              "- name: UTM zone 23S\n",
              "- method: Transverse Mercator\n",
              "Datum: Sistema de Referencia Geocentrico para las AmericaS 2000\n",
              "- Ellipsoid: GRS 1980\n",
              "- Prime Meridian: Greenwich"
            ]
          },
          "metadata": {},
          "execution_count": 21
        }
      ]
    },
    {
      "cell_type": "code",
      "source": [
        "fig, ax = plt.subplots(figsize=(10,8))\n",
        "equip_esporte_clube.plot(ax = ax, color='white', edgecolor='k')\n",
        "equip_esporte_clube_comunidade.plot(ax = ax, color='gray', edgecolor='k')\n",
        "plt.plot()"
      ],
      "metadata": {
        "colab": {
          "base_uri": "https://localhost:8080/",
          "height": 708
        },
        "id": "oDzSyPTcZ_YM",
        "outputId": "80ea6867-ad62-4e24-d101-704afed3ea9f"
      },
      "execution_count": 30,
      "outputs": [
        {
          "output_type": "execute_result",
          "data": {
            "text/plain": [
              "[]"
            ]
          },
          "metadata": {},
          "execution_count": 30
        },
        {
          "output_type": "display_data",
          "data": {
            "text/plain": [
              "<Figure size 1000x800 with 1 Axes>"
            ],
            "image/png": "[encoded data removed]"
          },
          "metadata": {}
        }
      ]
    },
    {
      "cell_type": "code",
      "source": [
        "equip_trab_empreend.columns"
      ],
      "metadata": {
        "colab": {
          "base_uri": "https://localhost:8080/"
        },
        "id": "cBZ370I7bqSI",
        "outputId": "6da56178-507a-43f4-bf9a-1711ca135196"
      },
      "execution_count": 15,
      "outputs": [
        {
          "output_type": "execute_result",
          "data": {
            "text/plain": [
              "Index(['ad_enderec', 'ad_prog', 'ad_site', 'ad_unidade', 'ad_agenda',\n",
              "       'ad_contato', 'ad_detalhe', 'ad_horario', 'geometry'],\n",
              "      dtype='object')"
            ]
          },
          "metadata": {},
          "execution_count": 15
        }
      ]
    },
    {
      "cell_type": "code",
      "source": [],
      "metadata": {
        "id": "PDHj3vV9eHsY"
      },
      "execution_count": null,
      "outputs": []
    }
  ]
}